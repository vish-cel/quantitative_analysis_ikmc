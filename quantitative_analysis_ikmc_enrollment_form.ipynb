{
 "cells": [
  {
   "cell_type": "code",
   "execution_count": 1,
   "id": "29115c59-fa3b-4b70-a25e-126597247c85",
   "metadata": {},
   "outputs": [],
   "source": [
    "import pandas as pd"
   ]
  },
  {
   "cell_type": "code",
   "execution_count": 4,
   "id": "163da64a-bd64-4537-8aac-8e0ed781bc1f",
   "metadata": {},
   "outputs": [],
   "source": [
    "# Load the Enrollment form data, skipping the specified number of rows\n",
    "df_enr = pd.read_csv(r\"C:\\Users\\CEL\\Desktop\\Quantitative Analysis\\iKMC\\Enr_17th Sep '24 to18th Jun '25.csv\", skiprows=2)"
   ]
  },
  {
   "cell_type": "code",
   "execution_count": 5,
   "id": "91170605-2f0e-4175-9c7d-093ad747a128",
   "metadata": {},
   "outputs": [
    {
     "name": "stdout",
     "output_type": "stream",
     "text": [
      "First 5 rows of the Enrolment Data:\n",
      "  enr_baby_scrno enr_babyid     enr_dof   enr_tof  enr_researcher_code  \\\n",
      "0      S12140006  E12140003  2024-09-20  15:17:00                 1214   \n",
      "1      S12090008  E12090002  2024-09-22  12:21:00                 1209   \n",
      "2      S12090009  E12090003  2024-09-22  13:03:00                 1209   \n",
      "3      S12090011  E12090004  2024-09-25  11:54:00                 1209   \n",
      "4      S12140010  E12140004  2024-09-25  11:29:00                 1214   \n",
      "\n",
      "   country_id  site_id  facility_id  enr_resp   enr_resp_spy  ...  \\\n",
      "0          11      112           12        13           Buaa  ...   \n",
      "1          11      112           12        13          naani  ...   \n",
      "2          11      112           12        13  grand mother   ...   \n",
      "3          11      112           12        13  grand mother   ...   \n",
      "4          11      112           12        11            NaN  ...   \n",
      "\n",
      "   enr_bf_bentfed_rcvd  enr_bf_bentfed_rcvdsp  enr_bf_bentfed_dt  \\\n",
      "0                 11.0                    NaN         2024-09-20   \n",
      "1                 12.0                    NaN         2024-09-22   \n",
      "2                  NaN                    NaN                NaN   \n",
      "3                  NaN                    NaN                NaN   \n",
      "4                  NaN                    NaN                NaN   \n",
      "\n",
      "   enr_bf_bentfed_tm  enr_bf_formilk  enr_bf_formilksp  enr_bf_bentfed_hw  \\\n",
      "0           11:00:00              12               NaN                 12   \n",
      "1           11:55:00              11      Formula milk                 12   \n",
      "2                NaN              12               NaN                 12   \n",
      "3                NaN              12               NaN                 12   \n",
      "4                NaN              12               NaN                 12   \n",
      "\n",
      "   enr_bf_bentfed_hw_dt  enr_bf_bentfed_hw_tm  enr_bf_bsucbrst  \n",
      "0                   NaN                   NaN              NaN  \n",
      "1                   NaN                   NaN              NaN  \n",
      "2                   NaN                   NaN              NaN  \n",
      "3                   NaN                   NaN              NaN  \n",
      "4                   NaN                   NaN              NaN  \n",
      "\n",
      "[5 rows x 74 columns]\n"
     ]
    }
   ],
   "source": [
    "# Display the first few rows of the dataframe\n",
    "print(\"First 5 rows of the Enrolment Data:\")\n",
    "print(df_enr.head())"
   ]
  },
  {
   "cell_type": "code",
   "execution_count": 6,
   "id": "63041173-6e95-4c4f-846a-4dd17616d4fd",
   "metadata": {},
   "outputs": [
    {
     "name": "stdout",
     "output_type": "stream",
     "text": [
      "\n",
      "Information about the Enrolment Data:\n",
      "<class 'pandas.core.frame.DataFrame'>\n",
      "RangeIndex: 308 entries, 0 to 307\n",
      "Data columns (total 74 columns):\n",
      " #   Column                     Non-Null Count  Dtype  \n",
      "---  ------                     --------------  -----  \n",
      " 0   enr_baby_scrno             308 non-null    object \n",
      " 1   enr_babyid                 308 non-null    object \n",
      " 2   enr_dof                    308 non-null    object \n",
      " 3   enr_tof                    308 non-null    object \n",
      " 4   enr_researcher_code        308 non-null    int64  \n",
      " 5   country_id                 308 non-null    int64  \n",
      " 6   site_id                    308 non-null    int64  \n",
      " 7   facility_id                308 non-null    int64  \n",
      " 8   enr_resp                   308 non-null    int64  \n",
      " 9   enr_resp_spy               121 non-null    object \n",
      " 10  enr_fc_fedu                308 non-null    int64  \n",
      " 11  enr_fc_focc                308 non-null    int64  \n",
      " 12  enr_fc_fincm               308 non-null    int64  \n",
      " 13  enr_fc_drnkw               308 non-null    int64  \n",
      " 14  enr_fc_mtoi                308 non-null    int64  \n",
      " 15  enr_fc_fuel                308 non-null    int64  \n",
      " 16  enr_mc_mage                308 non-null    int64  \n",
      " 17  enr_mc_medu                308 non-null    int64  \n",
      " 18  enr_mc_mocc                308 non-null    int64  \n",
      " 19  enr_mc_prty                308 non-null    int64  \n",
      " 20  enr_mc_mvstatus            308 non-null    int64  \n",
      " 21  enr_mc_dod                 1 non-null      object \n",
      " 22  enr_mc_tod                 1 non-null      object \n",
      " 23  enr_mc_cod                 1 non-null      object \n",
      " 24  enr_mc_motloc              305 non-null    float64\n",
      " 25  enr_mc_doa                 0 non-null      float64\n",
      " 26  enr_mc_toa                 0 non-null      float64\n",
      " 27  enr_mc_moradmi             0 non-null      float64\n",
      " 28  enr_mc_moradmi_spy         0 non-null      float64\n",
      " 29  enr_bc_weight              308 non-null    int64  \n",
      " 30  enr_bc_weight_dt           308 non-null    object \n",
      " 31  enr_bc_weight_tm           308 non-null    object \n",
      " 32  enr_bc_axtemp              308 non-null    float64\n",
      " 33  enr_bc_axtemp_unit         308 non-null    int64  \n",
      " 34  enr_bc_hr                  308 non-null    int64  \n",
      " 35  enr_bc_rr                  308 non-null    int64  \n",
      " 36  enr_bc_sci                 308 non-null    int64  \n",
      " 37  enr_bc_grunt               308 non-null    int64  \n",
      " 38  enr_bc_movement            308 non-null    int64  \n",
      " 39  enr_bc_crt                 308 non-null    int64  \n",
      " 40  enr_bc_oxysat              308 non-null    int64  \n",
      " 41  enr_bc_bs_lvl              308 non-null    int64  \n",
      " 42  enr_bc_bs_unit             308 non-null    int64  \n",
      " 43  enr_l12_convul             308 non-null    int64  \n",
      " 44  enr_oxy_supp               308 non-null    int64  \n",
      " 45  enr_cpap                   308 non-null    int64  \n",
      " 46  enr_ivflud                 308 non-null    int64  \n",
      " 47  enr_ab                     308 non-null    int64  \n",
      " 48  enr_ref_phototherapy       308 non-null    int64  \n",
      " 49  enr_inborn                 308 non-null    int64  \n",
      " 50  enr_rel_baby_surro         308 non-null    int64  \n",
      " 51  enr_ssc_rec                308 non-null    int64  \n",
      " 52  enr_nssc_reason            130 non-null    float64\n",
      " 53  enr_nssc_other             26 non-null     object \n",
      " 54  enr_ssc_min                177 non-null    float64\n",
      " 55  enr_ssc                    146 non-null    float64\n",
      " 56  enr_ssc_in_2hrs            38 non-null     float64\n",
      " 57  enr_ssc_who                177 non-null    float64\n",
      " 58  enr_ref                    308 non-null    int64  \n",
      " 59  enr_ssc_where              177 non-null    float64\n",
      " 60  enr_ssc_where_in_facility  167 non-null    float64\n",
      " 61  enr_ssc_othr_spy           0 non-null      float64\n",
      " 62  enr_ssc_dur                10 non-null     float64\n",
      " 63  enr_bf_bentfed             308 non-null    int64  \n",
      " 64  enr_bf_bentfed_rcvd        138 non-null    float64\n",
      " 65  enr_bf_bentfed_rcvdsp      0 non-null      float64\n",
      " 66  enr_bf_bentfed_dt          138 non-null    object \n",
      " 67  enr_bf_bentfed_tm          138 non-null    object \n",
      " 68  enr_bf_formilk             308 non-null    int64  \n",
      " 69  enr_bf_formilksp           1 non-null      object \n",
      " 70  enr_bf_bentfed_hw          308 non-null    int64  \n",
      " 71  enr_bf_bentfed_hw_dt       18 non-null     object \n",
      " 72  enr_bf_bentfed_hw_tm       18 non-null     object \n",
      " 73  enr_bf_bsucbrst            18 non-null     float64\n",
      "dtypes: float64(18), int64(40), object(16)\n",
      "memory usage: 178.2+ KB\n",
      "None\n"
     ]
    }
   ],
   "source": [
    "# Display information about the dataframe, including column names and data types\n",
    "print(\"\\nInformation about the Enrolment Data:\")\n",
    "print(df_enr.info())"
   ]
  },
  {
   "cell_type": "code",
   "execution_count": 7,
   "id": "72346844-2f6a-4466-a0e8-67a35b068bed",
   "metadata": {},
   "outputs": [
    {
     "name": "stdout",
     "output_type": "stream",
     "text": [
      "\n",
      "Descriptive Statistics for Key Numerical Columns:\n",
      "       enr_bc_weight  enr_bc_axtemp  enr_mc_mage  enr_fc_fincm\n",
      "count     308.000000     308.000000   308.000000    308.000000\n",
      "mean     1950.139610   10746.580519    25.646104  15099.675325\n",
      "std       392.779841   30968.259094     4.793598   6551.601731\n",
      "min      1040.000000      26.400000    17.000000   1000.000000\n",
      "25%      1649.000000      36.000000    22.000000  11000.000000\n",
      "50%      1952.500000      36.600000    25.000000  15000.000000\n",
      "75%      2236.250000      37.000000    28.000000  18000.000000\n",
      "max      4100.000000   99999.000000    48.000000  80000.000000\n"
     ]
    }
   ],
   "source": [
    "# Descriptive statistics for numerical columns\n",
    "print(\"\\nDescriptive Statistics for Key Numerical Columns:\")\n",
    "print(df_enr[['enr_bc_weight', 'enr_bc_axtemp', 'enr_mc_mage', 'enr_fc_fincm']].describe())"
   ]
  },
  {
   "cell_type": "code",
   "execution_count": 9,
   "id": "8bb791ed-73af-409f-8f44-677e5d72ccd5",
   "metadata": {},
   "outputs": [
    {
     "name": "stdout",
     "output_type": "stream",
     "text": [
      "\n",
      "Distribution of Country ID (country_id):\n",
      "country_id\n",
      "11    308\n",
      "Name: count, dtype: int64\n",
      "country_id\n",
      "11    100.0\n",
      "Name: proportion, dtype: float64\n",
      "\n",
      "Distribution of Site ID (site_id):\n",
      "site_id\n",
      "112    308\n",
      "Name: count, dtype: int64\n",
      "site_id\n",
      "112    100.0\n",
      "Name: proportion, dtype: float64\n",
      "\n",
      "Distribution of Facility ID (facility_id):\n",
      "facility_id\n",
      "12    308\n",
      "Name: count, dtype: int64\n",
      "facility_id\n",
      "12    100.0\n",
      "Name: proportion, dtype: float64\n",
      "\n",
      "Distribution of Researcher Code (enr_researcher_code):\n",
      "enr_researcher_code\n",
      "1209    201\n",
      "1214    107\n",
      "Name: count, dtype: int64\n",
      "enr_researcher_code\n",
      "1209    65.25974\n",
      "1214    34.74026\n",
      "Name: proportion, dtype: float64\n"
     ]
    }
   ],
   "source": [
    "# Analyze distribution of country_id, site_id, facility_id, enr_researcher_code\n",
    "print(\"\\nDistribution of Country ID (country_id):\")\n",
    "print(df_enr['country_id'].value_counts(dropna=False))\n",
    "print(df_enr['country_id'].value_counts(normalize=True, dropna=False) * 100)\n",
    "\n",
    "print(\"\\nDistribution of Site ID (site_id):\")\n",
    "print(df_enr['site_id'].value_counts(dropna=False))\n",
    "print(df_enr['site_id'].value_counts(normalize=True, dropna=False) * 100)\n",
    "\n",
    "print(\"\\nDistribution of Facility ID (facility_id):\")\n",
    "print(df_enr['facility_id'].value_counts(dropna=False))\n",
    "print(df_enr['facility_id'].value_counts(normalize=True, dropna=False) * 100)\n",
    "\n",
    "print(\"\\nDistribution of Researcher Code (enr_researcher_code):\")\n",
    "print(df_enr['enr_researcher_code'].value_counts(dropna=False))\n",
    "print(df_enr['enr_researcher_code'].value_counts(normalize=True, dropna=False) * 100)"
   ]
  },
  {
   "cell_type": "code",
   "execution_count": 10,
   "id": "2afac180-d021-441c-ae3f-349b11abc31e",
   "metadata": {},
   "outputs": [
    {
     "name": "stdout",
     "output_type": "stream",
     "text": [
      "\n",
      "Number of duplicate 'enr_baby_scrno' entries: 0\n",
      "Number of duplicate 'enr_babyid' entries: 0\n"
     ]
    }
   ],
   "source": [
    "# Check for duplicate entries in 'enr_baby_scrno' and 'enr_babyid'\n",
    "print(\"\\nNumber of duplicate 'enr_baby_scrno' entries:\", df_enr['enr_baby_scrno'].duplicated().sum())\n",
    "print(\"Number of duplicate 'enr_babyid' entries:\", df_enr['enr_babyid'].duplicated().sum())"
   ]
  },
  {
   "cell_type": "code",
   "execution_count": 11,
   "id": "2cc5095b-deb2-4f6d-b9ee-34600b3153ae",
   "metadata": {},
   "outputs": [
    {
     "name": "stdout",
     "output_type": "stream",
     "text": [
      "\n",
      "Date Range of 'enr_dof': 2024-09-20 00:00:00 to 2025-06-18 00:00:00\n",
      "Date Range of 'enr_bc_weight_dt': 2024-09-20 00:00:00 to 2025-06-17 00:00:00\n",
      "Date Range of 'enr_mc_dod': 2025-04-03 00:00:00 to 2025-04-03 00:00:00\n"
     ]
    }
   ],
   "source": [
    "# Convert date columns to datetime objects for proper analysis and examine range\n",
    "df_enr['enr_dof'] = pd.to_datetime(df_enr['enr_dof'], errors='coerce')\n",
    "df_enr['enr_bc_weight_dt'] = pd.to_datetime(df_enr['enr_bc_weight_dt'], errors='coerce')\n",
    "df_enr['enr_mc_dod'] = pd.to_datetime(df_enr['enr_mc_dod'], errors='coerce')\n",
    "\n",
    "print(\"\\nDate Range of 'enr_dof':\", df_enr['enr_dof'].min(), \"to\", df_enr['enr_dof'].max())\n",
    "print(\"Date Range of 'enr_bc_weight_dt':\", df_enr['enr_bc_weight_dt'].min(), \"to\", df_enr['enr_bc_weight_dt'].max())\n",
    "print(\"Date Range of 'enr_mc_dod':\", df_enr['enr_mc_dod'].min(), \"to\", df_enr['enr_mc_dod'].max())\n"
   ]
  },
  {
   "cell_type": "code",
   "execution_count": 12,
   "id": "df6c2744-cbc9-4a30-aaed-508a0241d997",
   "metadata": {},
   "outputs": [
    {
     "name": "stdout",
     "output_type": "stream",
     "text": [
      "\n",
      "Distribution of 'enr_inborn':\n",
      "enr_inborn\n",
      "11    224\n",
      "12     84\n",
      "Name: count, dtype: int64\n",
      "enr_inborn\n",
      "11    72.727273\n",
      "12    27.272727\n",
      "Name: proportion, dtype: float64\n"
     ]
    }
   ],
   "source": [
    "# Analyze distribution of 'enr_inborn' (whether baby was born in the facility)\n",
    "print(\"\\nDistribution of 'enr_inborn':\")\n",
    "print(df_enr['enr_inborn'].value_counts(dropna=False))\n",
    "print(df_enr['enr_inborn'].value_counts(normalize=True, dropna=False) * 100)"
   ]
  },
  {
   "cell_type": "code",
   "execution_count": 13,
   "id": "41656707-9549-4756-b10c-f76e989e0735",
   "metadata": {},
   "outputs": [
    {
     "name": "stdout",
     "output_type": "stream",
     "text": [
      "\n",
      "Distribution of 'enr_ssc_rec':\n",
      "enr_ssc_rec\n",
      "11    177\n",
      "12    131\n",
      "Name: count, dtype: int64\n",
      "enr_ssc_rec\n",
      "11    57.467532\n",
      "12    42.532468\n",
      "Name: proportion, dtype: float64\n"
     ]
    }
   ],
   "source": [
    "# Analyze distribution of 'enr_ssc_rec' (Skin-to-Skin Contact Recommended)\n",
    "print(\"\\nDistribution of 'enr_ssc_rec':\")\n",
    "print(df_enr['enr_ssc_rec'].value_counts(dropna=False))\n",
    "print(df_enr['enr_ssc_rec'].value_counts(normalize=True, dropna=False) * 100)"
   ]
  },
  {
   "cell_type": "code",
   "execution_count": 14,
   "id": "f26141f3-c40d-43c7-8d76-29b50d72be3e",
   "metadata": {},
   "outputs": [
    {
     "name": "stdout",
     "output_type": "stream",
     "text": [
      "\n",
      "Number of entries with 'enr_bc_axtemp' = 99999.0: 33\n"
     ]
    }
   ],
   "source": [
    "# Investigate 'enr_bc_axtemp' outlier (99999.0)\n",
    "outlier_temp_count = df_enr[df_enr['enr_bc_axtemp'] == 99999.0].shape[0]\n",
    "print(f\"\\nNumber of entries with 'enr_bc_axtemp' = 99999.0: {outlier_temp_count}\")"
   ]
  },
  {
   "cell_type": "code",
   "execution_count": 16,
   "id": "d5a7b7f4-1dbc-441e-a980-0ab43eba4f77",
   "metadata": {},
   "outputs": [
    {
     "name": "stdout",
     "output_type": "stream",
     "text": [
      "Number of entries with 'enr_bc_axtemp' outside physiological range (25-43 C), excluding 99999.0: 0\n"
     ]
    }
   ],
   "source": [
    "# Check for other extreme values that are likely errors (e.g., temperatures below 25 or above 43 degrees Celsius)\n",
    "physiological_temp_outliers = df_enr[(df_enr['enr_bc_axtemp'] < 25) | (df_enr['enr_bc_axtemp'] > 43)].shape[0]\n",
    "# Exclude the 99999.0 value if we want to see other non-physiological but not placeholder values\n",
    "physiological_temp_outliers_cleaned = df_enr[(df_enr['enr_bc_axtemp'] != 99999.0) & ((df_enr['enr_bc_axtemp'] < 25) | (df_enr['enr_bc_axtemp'] > 43))].shape[0]\n",
    "print(f\"Number of entries with 'enr_bc_axtemp' outside physiological range (25-43 C), excluding 99999.0: {physiological_temp_outliers_cleaned}\")"
   ]
  },
  {
   "cell_type": "code",
   "execution_count": 17,
   "id": "a246661b-6e6c-4e30-9d99-85d39785d788",
   "metadata": {},
   "outputs": [
    {
     "name": "stdout",
     "output_type": "stream",
     "text": [
      "\n",
      "Columns with more than 95% missing values:\n",
      "- enr_mc_dod: 99.68% missing\n",
      "- enr_mc_tod: 99.68% missing\n",
      "- enr_mc_cod: 99.68% missing\n",
      "- enr_mc_doa: 100.00% missing\n",
      "- enr_mc_toa: 100.00% missing\n",
      "- enr_mc_moradmi: 100.00% missing\n",
      "- enr_mc_moradmi_spy: 100.00% missing\n",
      "- enr_ssc_othr_spy: 100.00% missing\n",
      "- enr_ssc_dur: 96.75% missing\n",
      "- enr_bf_bentfed_rcvdsp: 100.00% missing\n",
      "- enr_bf_formilksp: 99.68% missing\n",
      "\n",
      "Number of entries with Mother's Date of Death (enr_mc_dod) present: 1\n",
      "Number of entries with Mother's Time of Death (enr_mc_tod) present: 1\n",
      "Number of entries with Mother's Cause of Death (enr_mc_cod) present: 1\n"
     ]
    }
   ],
   "source": [
    "# Analyze missing value patterns for highly null columns\n",
    "# List columns with very high percentage of missing values (e.g., >95%)\n",
    "highly_missing_cols = df_enr.columns[df_enr.isnull().sum() / len(df_enr) > 0.95].tolist()\n",
    "print(\"\\nColumns with more than 95% missing values:\")\n",
    "for col in highly_missing_cols:\n",
    "    print(f\"- {col}: {df_enr[col].isnull().sum() / len(df_enr) * 100:.2f}% missing\")\n",
    "\n",
    "# Check specific patterns like mother's death information\n",
    "mother_dod_present_count = df_enr['enr_mc_dod'].notna().sum()\n",
    "mother_tod_present_count = df_enr['enr_mc_tod'].notna().sum()\n",
    "mother_cod_present_count = df_enr['enr_mc_cod'].notna().sum()\n",
    "\n",
    "print(f\"\\nNumber of entries with Mother's Date of Death (enr_mc_dod) present: {mother_dod_present_count}\")\n",
    "print(f\"Number of entries with Mother's Time of Death (enr_mc_tod) present: {mother_tod_present_count}\")\n",
    "print(f\"Number of entries with Mother's Cause of Death (enr_mc_cod) present: {mother_cod_present_count}\")"
   ]
  },
  {
   "cell_type": "code",
   "execution_count": 18,
   "id": "b920a112-d754-4121-9971-fd76226e3692",
   "metadata": {},
   "outputs": [
    {
     "name": "stdout",
     "output_type": "stream",
     "text": [
      "\n",
      "Distribution of 'enr_l12_convul' (Convulsions in last 12 hrs):\n",
      "enr_l12_convul\n",
      "12    296\n",
      "11     12\n",
      "Name: count, dtype: int64\n",
      "enr_l12_convul\n",
      "12    96.103896\n",
      "11     3.896104\n",
      "Name: proportion, dtype: float64\n",
      "\n",
      "Distribution of 'enr_oxy_supp' (Oxygen Support):\n",
      "enr_oxy_supp\n",
      "12    192\n",
      "11    116\n",
      "Name: count, dtype: int64\n",
      "enr_oxy_supp\n",
      "12    62.337662\n",
      "11    37.662338\n",
      "Name: proportion, dtype: float64\n",
      "\n",
      "Distribution of 'enr_cpap' (CPAP):\n",
      "enr_cpap\n",
      "12    240\n",
      "11     68\n",
      "Name: count, dtype: int64\n",
      "enr_cpap\n",
      "12    77.922078\n",
      "11    22.077922\n",
      "Name: proportion, dtype: float64\n",
      "\n",
      "Distribution of 'enr_ivflud' (IV Fluids):\n",
      "enr_ivflud\n",
      "11    211\n",
      "12     97\n",
      "Name: count, dtype: int64\n",
      "enr_ivflud\n",
      "11    68.506494\n",
      "12    31.493506\n",
      "Name: proportion, dtype: float64\n",
      "\n",
      "Distribution of 'enr_ab' (Antibiotics):\n",
      "enr_ab\n",
      "12    289\n",
      "11     19\n",
      "Name: count, dtype: int64\n",
      "enr_ab\n",
      "12    93.831169\n",
      "11     6.168831\n",
      "Name: proportion, dtype: float64\n",
      "\n",
      "Distribution of 'enr_ref_phototherapy' (Referred for Phototherapy):\n",
      "enr_ref_phototherapy\n",
      "12    304\n",
      "11      4\n",
      "Name: count, dtype: int64\n",
      "enr_ref_phototherapy\n",
      "12    98.701299\n",
      "11     1.298701\n",
      "Name: proportion, dtype: float64\n",
      "\n",
      "Distribution of 'enr_bf_bentfed' (Breastfeeding initiated within 1 hr):\n",
      "enr_bf_bentfed\n",
      "12    170\n",
      "11    138\n",
      "Name: count, dtype: int64\n",
      "enr_bf_bentfed\n",
      "12    55.194805\n",
      "11    44.805195\n",
      "Name: proportion, dtype: float64\n"
     ]
    }
   ],
   "source": [
    "# Explore other categorical variables (clinical signs/interventions)\n",
    "# Assuming 11/12 are common codes for Yes/No or Present/Absent\n",
    "print(\"\\nDistribution of 'enr_l12_convul' (Convulsions in last 12 hrs):\")\n",
    "print(df_enr['enr_l12_convul'].value_counts(dropna=False))\n",
    "print(df_enr['enr_l12_convul'].value_counts(normalize=True, dropna=False) * 100)\n",
    "\n",
    "print(\"\\nDistribution of 'enr_oxy_supp' (Oxygen Support):\")\n",
    "print(df_enr['enr_oxy_supp'].value_counts(dropna=False))\n",
    "print(df_enr['enr_oxy_supp'].value_counts(normalize=True, dropna=False) * 100)\n",
    "\n",
    "print(\"\\nDistribution of 'enr_cpap' (CPAP):\")\n",
    "print(df_enr['enr_cpap'].value_counts(dropna=False))\n",
    "print(df_enr['enr_cpap'].value_counts(normalize=True, dropna=False) * 100)\n",
    "\n",
    "print(\"\\nDistribution of 'enr_ivflud' (IV Fluids):\")\n",
    "print(df_enr['enr_ivflud'].value_counts(dropna=False))\n",
    "print(df_enr['enr_ivflud'].value_counts(normalize=True, dropna=False) * 100)\n",
    "\n",
    "print(\"\\nDistribution of 'enr_ab' (Antibiotics):\")\n",
    "print(df_enr['enr_ab'].value_counts(dropna=False))\n",
    "print(df_enr['enr_ab'].value_counts(normalize=True, dropna=False) * 100)\n",
    "\n",
    "print(\"\\nDistribution of 'enr_ref_phototherapy' (Referred for Phototherapy):\")\n",
    "print(df_enr['enr_ref_phototherapy'].value_counts(dropna=False))\n",
    "print(df_enr['enr_ref_phototherapy'].value_counts(normalize=True, dropna=False) * 100)\n",
    "\n",
    "print(\"\\nDistribution of 'enr_bf_bentfed' (Breastfeeding initiated within 1 hr):\")\n",
    "print(df_enr['enr_bf_bentfed'].value_counts(dropna=False))\n",
    "print(df_enr['enr_bf_bentfed'].value_counts(normalize=True, dropna=False) * 100)"
   ]
  },
  {
   "cell_type": "code",
   "execution_count": null,
   "id": "703420fc-45a7-4d51-829f-af44b0f7101d",
   "metadata": {},
   "outputs": [],
   "source": []
  }
 ],
 "metadata": {
  "kernelspec": {
   "display_name": "Python 3 (ipykernel)",
   "language": "python",
   "name": "python3"
  },
  "language_info": {
   "codemirror_mode": {
    "name": "ipython",
    "version": 3
   },
   "file_extension": ".py",
   "mimetype": "text/x-python",
   "name": "python",
   "nbconvert_exporter": "python",
   "pygments_lexer": "ipython3",
   "version": "3.13.5"
  }
 },
 "nbformat": 4,
 "nbformat_minor": 5
}

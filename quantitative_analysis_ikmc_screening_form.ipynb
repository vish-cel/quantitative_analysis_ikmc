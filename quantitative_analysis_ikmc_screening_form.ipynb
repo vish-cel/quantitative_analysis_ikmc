{
 "cells": [
  {
   "cell_type": "code",
   "execution_count": 1,
   "id": "cdce507f-a194-417c-aa1e-539715804aa3",
   "metadata": {},
   "outputs": [],
   "source": [
    "import pandas as pd"
   ]
  },
  {
   "cell_type": "code",
   "execution_count": 2,
   "id": "5e845eb8-f44f-442a-982a-fd7da6947975",
   "metadata": {},
   "outputs": [],
   "source": [
    "# Load the Screening form data, skipping the specified number of rows\n",
    "df_screening = pd.read_csv(r\"C:\\Users\\CEL\\Desktop\\Quantitative Analysis\\iKMC\\Scr_17th Sep '24 - 18th Jun '25.csv\", skiprows=2)"
   ]
  },
  {
   "cell_type": "code",
   "execution_count": 3,
   "id": "e8ab33b7-00cd-495a-ba61-3872c0be325d",
   "metadata": {},
   "outputs": [
    {
     "name": "stdout",
     "output_type": "stream",
     "text": [
      "DataFrame Information:\n",
      "<class 'pandas.core.frame.DataFrame'>\n",
      "RangeIndex: 5768 entries, 0 to 5767\n",
      "Data columns (total 53 columns):\n",
      " #   Column                       Non-Null Count  Dtype  \n",
      "---  ------                       --------------  -----  \n",
      " 0   scr_baby_scrno               5768 non-null   object \n",
      " 1   scr_dof                      5768 non-null   object \n",
      " 2   scr_tof                      5768 non-null   object \n",
      " 3   scr_research_id              5768 non-null   int64  \n",
      " 4   country_id                   5768 non-null   int64  \n",
      " 5   site_id                      5768 non-null   int64  \n",
      " 6   facility_id                  5768 non-null   int64  \n",
      " 7   scr_birthweight              5768 non-null   int64  \n",
      " 8   scr_inf_ga_weeks             5768 non-null   int64  \n",
      " 9   scr_mom_name                 2632 non-null   object \n",
      " 10  scr_fath_name                2631 non-null   object \n",
      " 11  scr_resp                     2633 non-null   float64\n",
      " 12  scr_resp_spy                 123 non-null    object \n",
      " 13  scr_b_hosp_id                2631 non-null   object \n",
      " 14  scr_m_hosp_id                2631 non-null   object \n",
      " 15  scr_dob                      2631 non-null   object \n",
      " 16  scr_tob                      2630 non-null   object \n",
      " 17  scr_birthweight.1            5768 non-null   int64  \n",
      " 18  scr_birthweight_where        2625 non-null   float64\n",
      " 19  scr_pob                      2629 non-null   float64\n",
      " 20  select_facility              168 non-null    float64\n",
      " 21  scr_brth_facility_id         84 non-null     float64\n",
      " 22  scr_brth_facility_name       84 non-null     object \n",
      " 23  scr_hospid                   168 non-null    object \n",
      " 24  scr_rf_slip                  168 non-null    float64\n",
      " 25  scr_ikmc_fac_dt              203 non-null    object \n",
      " 26  scr_ikmc_fac_tm              203 non-null    object \n",
      " 27  scr_baby_reach_24hrs         203 non-null    float64\n",
      " 28  scr_bsex                     2629 non-null   float64\n",
      " 29  scr_inf_ga_weeks.1           5768 non-null   int64  \n",
      " 30  scr_method_ga                2629 non-null   float64\n",
      " 31  scr_status_baby              2629 non-null   float64\n",
      " 32  scr_died_dt                  33 non-null     object \n",
      " 33  scr_died_tm                  33 non-null     object \n",
      " 34  scr_smb                      2629 non-null   float64\n",
      " 35  scr_order                    86 non-null     float64\n",
      " 36  scr_del_mode                 2629 non-null   float64\n",
      " 37  scr_bwtcut                   5736 non-null   float64\n",
      " 38  scr_ga_cut_sncu              5736 non-null   float64\n",
      " 39  scr_bwt_abv_cutoff_lbw       5736 non-null   float64\n",
      " 40  scr_bwt_abv_cutoff_lbw_sick  2596 non-null   float64\n",
      " 41  scr_ind_sncu                 2587 non-null   float64\n",
      " 42  scr_sncu_spy                 454 non-null    float64\n",
      " 43  scr_sncu_othr_spy            106 non-null    object \n",
      " 44  scr_sp_brth                  2596 non-null   float64\n",
      " 45  scr_cong_malf                2596 non-null   float64\n",
      " 46  scr_cong_malf_what           7 non-null      object \n",
      " 47  scr_b_inotrf_2hrs            2596 non-null   float64\n",
      " 48  scr_b_mech_vent_2hrs         2596 non-null   float64\n",
      " 49  scr_beligenr                 5736 non-null   float64\n",
      " 50  scr_ext1                     518 non-null    float64\n",
      " 51  scr_mconst                   480 non-null    float64\n",
      " 52  scr_babyid                   310 non-null    object \n",
      "dtypes: float64(26), int64(8), object(19)\n",
      "memory usage: 2.3+ MB\n"
     ]
    }
   ],
   "source": [
    "# Display general information about the DataFrame\n",
    "print(\"DataFrame Information:\")\n",
    "df_screening.info()"
   ]
  },
  {
   "cell_type": "code",
   "execution_count": 4,
   "id": "3120d02e-9676-44de-959e-d297a6199259",
   "metadata": {},
   "outputs": [
    {
     "name": "stdout",
     "output_type": "stream",
     "text": [
      "\n",
      "First 5 rows of the Screening Data:\n",
      "  scr_baby_scrno     scr_dof   scr_tof  scr_research_id  country_id  site_id  \\\n",
      "0      S12140002  2024-09-17  11:03:00             1214          11      112   \n",
      "1      S12090002  2024-09-19  16:13:00             1209          11      112   \n",
      "2      S12090003  2024-09-20  11:37:00             1209          11      112   \n",
      "3      S12090004  2024-09-20  13:16:00             1209          11      112   \n",
      "4      S12140005  2024-09-20  11:47:00             1214          11      112   \n",
      "\n",
      "   facility_id  scr_birthweight  scr_inf_ga_weeks scr_mom_name  ...  \\\n",
      "0           12             3110                37     Hemlata   ...   \n",
      "1           12             2619                38         soni  ...   \n",
      "2           12             2708                38     sabanaaz  ...   \n",
      "3           12             3580                41       kranti  ...   \n",
      "4           12             2543                41       Swati   ...   \n",
      "\n",
      "  scr_sncu_othr_spy  scr_sp_brth scr_cong_malf scr_cong_malf_what  \\\n",
      "0               NaN         11.0          12.0                NaN   \n",
      "1               NaN         11.0          12.0                NaN   \n",
      "2               NaN         11.0          12.0                NaN   \n",
      "3               NaN         11.0          12.0                NaN   \n",
      "4               NaN         11.0          12.0                NaN   \n",
      "\n",
      "  scr_b_inotrf_2hrs scr_b_mech_vent_2hrs scr_beligenr  scr_ext1  scr_mconst  \\\n",
      "0              12.0                 12.0         12.0       NaN         NaN   \n",
      "1              12.0                 12.0         12.0       NaN         NaN   \n",
      "2              12.0                 12.0         12.0       NaN         NaN   \n",
      "3              12.0                 12.0         12.0       NaN         NaN   \n",
      "4              11.0                 12.0         12.0       NaN         NaN   \n",
      "\n",
      "   scr_babyid  \n",
      "0         NaN  \n",
      "1         NaN  \n",
      "2         NaN  \n",
      "3         NaN  \n",
      "4         NaN  \n",
      "\n",
      "[5 rows x 53 columns]\n"
     ]
    }
   ],
   "source": [
    "# Display the first 5 rows of the DataFrame\n",
    "print(\"\\nFirst 5 rows of the Screening Data:\")\n",
    "print(df_screening.head())"
   ]
  },
  {
   "cell_type": "code",
   "execution_count": 6,
   "id": "278b31af-de2f-4e30-914a-d5494f128dd3",
   "metadata": {},
   "outputs": [
    {
     "name": "stdout",
     "output_type": "stream",
     "text": [
      "Descriptive Statistics for Numerical Columns:\n",
      "       scr_birthweight  scr_inf_ga_weeks\n",
      "count      5768.000000       5768.000000\n",
      "mean       2934.714459         39.442614\n",
      "std        1166.242056          9.012419\n",
      "min         545.000000         22.000000\n",
      "25%        2510.000000         37.000000\n",
      "50%        2785.000000         38.000000\n",
      "75%        3100.000000         40.000000\n",
      "max        9999.000000         99.000000\n"
     ]
    }
   ],
   "source": [
    "# Descriptive statistics for numerical columns\n",
    "print(\"Descriptive Statistics for Numerical Columns:\")\n",
    "print(df_screening[['scr_birthweight', 'scr_inf_ga_weeks']].describe())"
   ]
  },
  {
   "cell_type": "code",
   "execution_count": 8,
   "id": "b7f2340a-eecf-44d0-9102-c76b0bf256a4",
   "metadata": {},
   "outputs": [
    {
     "name": "stdout",
     "output_type": "stream",
     "text": [
      "\n",
      "Distribution of Baby's Sex (scr_bsex):\n",
      "scr_bsex\n",
      "NaN     3139\n",
      "11.0    1318\n",
      "12.0    1304\n",
      "13.0       7\n",
      "Name: count, dtype: int64\n",
      "scr_bsex\n",
      "NaN     54.420943\n",
      "11.0    22.850208\n",
      "12.0    22.607490\n",
      "13.0     0.121359\n",
      "Name: proportion, dtype: float64\n"
     ]
    }
   ],
   "source": [
    "# Analyze the distribution of 'scr_bsex' (baby's sex)\n",
    "print(\"\\nDistribution of Baby's Sex (scr_bsex):\")\n",
    "print(df_screening['scr_bsex'].value_counts(dropna=False))\n",
    "print(df_screening['scr_bsex'].value_counts(normalize=True, dropna=False) * 100)"
   ]
  },
  {
   "cell_type": "code",
   "execution_count": 9,
   "id": "b4c1b794-c83a-4c78-8e79-731acec7bbf1",
   "metadata": {},
   "outputs": [
    {
     "name": "stdout",
     "output_type": "stream",
     "text": [
      "\n",
      "Distribution of Baby Status (scr_status_baby):\n",
      "scr_status_baby\n",
      "NaN     3139\n",
      "11.0    2596\n",
      "12.0      33\n",
      "Name: count, dtype: int64\n",
      "scr_status_baby\n",
      "NaN     54.420943\n",
      "11.0    45.006935\n",
      "12.0     0.572122\n",
      "Name: proportion, dtype: float64\n"
     ]
    }
   ],
   "source": [
    "# Analyze the distribution of 'scr_status_baby'\n",
    "print(\"\\nDistribution of Baby Status (scr_status_baby):\")\n",
    "print(df_screening['scr_status_baby'].value_counts(dropna=False))\n",
    "print(df_screening['scr_status_baby'].value_counts(normalize=True, dropna=False) * 100)"
   ]
  },
  {
   "cell_type": "code",
   "execution_count": 10,
   "id": "9fbb7776-4aac-443b-a8be-9c6ddf71f496",
   "metadata": {},
   "outputs": [
    {
     "name": "stdout",
     "output_type": "stream",
     "text": [
      "\n",
      "Number of duplicate 'scr_baby_scrno' entries: 0\n"
     ]
    }
   ],
   "source": [
    "# Check for duplicate entries in 'scr_baby_scrno'\n",
    "print(\"\\nNumber of duplicate 'scr_baby_scrno' entries:\", df_screening['scr_baby_scrno'].duplicated().sum())"
   ]
  },
  {
   "cell_type": "code",
   "execution_count": 12,
   "id": "0fba2603-1170-4d5d-b769-5efbdbb6b79b",
   "metadata": {},
   "outputs": [
    {
     "name": "stdout",
     "output_type": "stream",
     "text": [
      "\n",
      "Date Range of 'scr_dof': 2024-09-17 00:00:00 to 2025-06-18 00:00:00\n",
      "Date Range of 'scr_dob': 2024-09-12 00:00:00 to 2025-06-18 00:00:00\n",
      "Date Range of 'scr_ikmc_fac_dt': 2024-09-17 00:00:00 to 2025-06-18 00:00:00\n",
      "Date Range of 'scr_died_dt': 2024-11-12 00:00:00 to 2025-06-14 00:00:00\n"
     ]
    }
   ],
   "source": [
    "# Examine the range of date columns\n",
    "# Convert date columns to datetime objects for proper analysis\n",
    "df_screening['scr_dof'] = pd.to_datetime(df_screening['scr_dof'], errors='coerce')\n",
    "df_screening['scr_dob'] = pd.to_datetime(df_screening['scr_dob'], errors='coerce')\n",
    "df_screening['scr_ikmc_fac_dt'] = pd.to_datetime(df_screening['scr_ikmc_fac_dt'], errors='coerce')\n",
    "df_screening['scr_died_dt'] = pd.to_datetime(df_screening['scr_died_dt'], errors='coerce')\n",
    "\n",
    "print(\"\\nDate Range of 'scr_dof':\", df_screening['scr_dof'].min(), \"to\", df_screening['scr_dof'].max())\n",
    "print(\"Date Range of 'scr_dob':\", df_screening['scr_dob'].min(), \"to\", df_screening['scr_dob'].max())\n",
    "print(\"Date Range of 'scr_ikmc_fac_dt':\", df_screening['scr_ikmc_fac_dt'].min(), \"to\", df_screening['scr_ikmc_fac_dt'].max())\n",
    "print(\"Date Range of 'scr_died_dt':\", df_screening['scr_died_dt'].min(), \"to\", df_screening['scr_died_dt'].max())"
   ]
  },
  {
   "cell_type": "code",
   "execution_count": 15,
   "id": "fe10f77f-c9f9-4e3e-99f7-9e30b15060ec",
   "metadata": {},
   "outputs": [
    {
     "name": "stdout",
     "output_type": "stream",
     "text": [
      "\n",
      "Number of babies with birthweight > 6000g: 128\n",
      "Number of babies with gestational age > 42 weeks (including 99): 174\n"
     ]
    }
   ],
   "source": [
    "# Quantify outliers/invalid data points in scr_birthweight and scr_inf_ga_weeks\n",
    "# Assuming a reasonable maximum birthweight is 6000g and GA is 42 weeks for valid data.\n",
    "high_birthweight_outliers = df_screening[df_screening['scr_birthweight'] > 6000].shape[0]\n",
    "high_ga_outliers = df_screening[df_screening['scr_inf_ga_weeks'] > 42].shape[0] # Consider 99 as clear outlier\n",
    "print(f\"\\nNumber of babies with birthweight > 6000g: {high_birthweight_outliers}\")\n",
    "print(f\"Number of babies with gestational age > 42 weeks (including 99): {high_ga_outliers}\")"
   ]
  },
  {
   "cell_type": "code",
   "execution_count": 16,
   "id": "bcd04f7b-a9a0-4656-bbe6-220d3f24ccb5",
   "metadata": {},
   "outputs": [
    {
     "name": "stdout",
     "output_type": "stream",
     "text": [
      "\n",
      "Correlation between Birthweight and Gestational Age: 0.0743\n"
     ]
    }
   ],
   "source": [
    "# Calculate the correlation between 'scr_birthweight' and 'scr_inf_ga_weeks'\n",
    "correlation = df_screening['scr_birthweight'].corr(df_screening['scr_inf_ga_weeks'])\n",
    "print(f\"\\nCorrelation between Birthweight and Gestational Age: {correlation:.4f}\")"
   ]
  },
  {
   "cell_type": "code",
   "execution_count": 17,
   "id": "b5d51055-7240-4721-8ff3-66e4f9f2badf",
   "metadata": {},
   "outputs": [
    {
     "name": "stdout",
     "output_type": "stream",
     "text": [
      "\n",
      "Total babies with scr_status_baby = 12.0 (assumed 'died'): 33\n",
      "Babies with scr_status_baby = 12.0 AND scr_died_dt present: 33\n",
      "Babies with scr_status_baby = 12.0 AND scr_died_dt missing: 0\n"
     ]
    }
   ],
   "source": [
    "# Investigate the relationship between 'scr_status_baby' and 'scr_died_dt'\n",
    "# Check rows where scr_status_baby is 12.0 ('dead') and if scr_died_dt is present.\n",
    "status_died_count = df_screening[df_screening['scr_status_baby'] == 12.0].shape[0]\n",
    "status_died_and_date_present = df_screening[(df_screening['scr_status_baby'] == 12.0) & (df_screening['scr_died_dt'].notna())].shape[0]\n",
    "status_died_and_date_missing = df_screening[(df_screening['scr_status_baby'] == 12.0) & (df_screening['scr_died_dt'].isna())].shape[0]\n",
    "\n",
    "print(f\"\\nTotal babies with scr_status_baby = 12.0 (assumed 'died'): {status_died_count}\")\n",
    "print(f\"Babies with scr_status_baby = 12.0 AND scr_died_dt present: {status_died_and_date_present}\")\n",
    "print(f\"Babies with scr_status_baby = 12.0 AND scr_died_dt missing: {status_died_and_date_missing}\")"
   ]
  },
  {
   "cell_type": "code",
   "execution_count": 18,
   "id": "67600e70-c069-4daf-8c01-0e0344a51c71",
   "metadata": {},
   "outputs": [
    {
     "name": "stdout",
     "output_type": "stream",
     "text": [
      "\n",
      "Number of entries where both mom's and father's names are missing: 3136\n",
      "Number of entries where mom's name is missing, but father's name is present: 0\n",
      "Number of entries where mom's name is present, but father's name is missing: 1\n",
      "Total missing 'scr_mom_name': 3136\n",
      "Total missing 'scr_fath_name': 3137\n"
     ]
    }
   ],
   "source": [
    "# Examine missing value patterns for scr_mom_name and scr_fath_name\n",
    "missing_mom_name = df_screening['scr_mom_name'].isna()\n",
    "missing_fath_name = df_screening['scr_fath_name'].isna()\n",
    "\n",
    "mom_fath_both_missing = df_screening[missing_mom_name & missing_fath_name].shape[0]\n",
    "mom_missing_fath_present = df_screening[missing_mom_name & ~missing_fath_name].shape[0]\n",
    "mom_present_fath_missing = df_screening[~missing_mom_name & missing_fath_name].shape[0]\n",
    "\n",
    "print(f\"\\nNumber of entries where both mom's and father's names are missing: {mom_fath_both_missing}\")\n",
    "print(f\"Number of entries where mom's name is missing, but father's name is present: {mom_missing_fath_present}\")\n",
    "print(f\"Number of entries where mom's name is present, but father's name is missing: {mom_present_fath_missing}\")\n",
    "\n",
    "# Check the total number of missing values for mom_name and fath_name\n",
    "print(f\"Total missing 'scr_mom_name': {missing_mom_name.sum()}\")\n",
    "print(f\"Total missing 'scr_fath_name': {missing_fath_name.sum()}\")"
   ]
  },
  {
   "cell_type": "code",
   "execution_count": 19,
   "id": "c25952b5-70d0-4d36-a689-0874bcbce6b0",
   "metadata": {},
   "outputs": [
    {
     "name": "stdout",
     "output_type": "stream",
     "text": [
      "\n",
      "Distribution of Country ID (country_id):\n",
      "country_id\n",
      "11    5768\n",
      "Name: count, dtype: int64\n",
      "country_id\n",
      "11    100.0\n",
      "Name: proportion, dtype: float64\n",
      "\n",
      "Distribution of Site ID (site_id):\n",
      "site_id\n",
      "112    5768\n",
      "Name: count, dtype: int64\n",
      "site_id\n",
      "112    100.0\n",
      "Name: proportion, dtype: float64\n",
      "\n",
      "Distribution of Facility ID (facility_id):\n",
      "facility_id\n",
      "12    5768\n",
      "Name: count, dtype: int64\n",
      "facility_id\n",
      "12    100.0\n",
      "Name: proportion, dtype: float64\n"
     ]
    }
   ],
   "source": [
    "# Analyze distribution of country_id, site_id, facility_id\n",
    "print(\"\\nDistribution of Country ID (country_id):\")\n",
    "print(df_screening['country_id'].value_counts(dropna=False))\n",
    "print(df_screening['country_id'].value_counts(normalize=True, dropna=False) * 100)\n",
    "\n",
    "print(\"\\nDistribution of Site ID (site_id):\")\n",
    "print(df_screening['site_id'].value_counts(dropna=False))\n",
    "print(df_screening['site_id'].value_counts(normalize=True, dropna=False) * 100)\n",
    "\n",
    "print(\"\\nDistribution of Facility ID (facility_id):\")\n",
    "print(df_screening['facility_id'].value_counts(dropna=False))\n",
    "print(df_screening['facility_id'].value_counts(normalize=True, dropna=False) * 100)"
   ]
  },
  {
   "cell_type": "code",
   "execution_count": 20,
   "id": "5e5c516f-9db6-46e7-884e-d15ffbde6116",
   "metadata": {},
   "outputs": [
    {
     "name": "stdout",
     "output_type": "stream",
     "text": [
      "\n",
      "Distribution of Research ID (scr_research_id):\n",
      "scr_research_id\n",
      "1214    3013\n",
      "1209    2755\n",
      "Name: count, dtype: int64\n",
      "scr_research_id\n",
      "1214    52.236477\n",
      "1209    47.763523\n",
      "Name: proportion, dtype: float64\n"
     ]
    }
   ],
   "source": [
    "# Explore scr_research_id distribution\n",
    "print(\"\\nDistribution of Research ID (scr_research_id):\")\n",
    "print(df_screening['scr_research_id'].value_counts(dropna=False))\n",
    "print(df_screening['scr_research_id'].value_counts(normalize=True, dropna=False) * 100)"
   ]
  },
  {
   "cell_type": "code",
   "execution_count": 21,
   "id": "3f0331f4-04e0-4407-b388-116e6a256750",
   "metadata": {},
   "outputs": [
    {
     "name": "stdout",
     "output_type": "stream",
     "text": [
      "\n",
      "Distribution of Congenital Malformation (scr_cong_malf):\n",
      "scr_cong_malf\n",
      "NaN     3172\n",
      "12.0    2589\n",
      "11.0       7\n",
      "Name: count, dtype: int64\n",
      "scr_cong_malf\n",
      "NaN     54.993065\n",
      "12.0    44.885576\n",
      "11.0     0.121359\n",
      "Name: proportion, dtype: float64\n",
      "\n",
      "Details of 'scr_cong_malf_what' (when present):\n",
      "scr_cong_malf_what\n",
      "Anecephaly                      1\n",
      "cleft lip and cleft palate      1\n",
      "CNS caput malformation          1\n",
      "cleft lip and cleft palate      1\n",
      "polyductly                      1\n",
      "Penoscrotal hypospadias         1\n",
      "Multiple Congenital anamales    1\n",
      "Name: count, dtype: int64\n"
     ]
    }
   ],
   "source": [
    "# Investigate scr_cong_malf and scr_cong_malf_what\n",
    "print(\"\\nDistribution of Congenital Malformation (scr_cong_malf):\")\n",
    "print(df_screening['scr_cong_malf'].value_counts(dropna=False))\n",
    "print(df_screening['scr_cong_malf'].value_counts(normalize=True, dropna=False) * 100)\n",
    "\n",
    "print(\"\\nDetails of 'scr_cong_malf_what' (when present):\")\n",
    "print(df_screening[df_screening['scr_cong_malf_what'].notna()]['scr_cong_malf_what'].value_counts(dropna=False))"
   ]
  },
  {
   "cell_type": "code",
   "execution_count": 22,
   "id": "6659c831-3114-46ba-acac-0066ef67a1f8",
   "metadata": {},
   "outputs": [
    {
     "name": "stdout",
     "output_type": "stream",
     "text": [
      "\n",
      "Distribution of Delivery Mode (scr_del_mode):\n",
      "scr_del_mode\n",
      "NaN     3139\n",
      "11.0    1820\n",
      "14.0     807\n",
      "12.0       2\n",
      "Name: count, dtype: int64\n",
      "scr_del_mode\n",
      "NaN     54.420943\n",
      "11.0    31.553398\n",
      "14.0    13.990985\n",
      "12.0     0.034674\n",
      "Name: proportion, dtype: float64\n"
     ]
    }
   ],
   "source": [
    "# Examine scr_del_mode (delivery mode)\n",
    "print(\"\\nDistribution of Delivery Mode (scr_del_mode):\")\n",
    "print(df_screening['scr_del_mode'].value_counts(dropna=False))\n",
    "print(df_screening['scr_del_mode'].value_counts(normalize=True, dropna=False) * 100)"
   ]
  },
  {
   "cell_type": "code",
   "execution_count": null,
   "id": "a1570e17-4389-46bd-9d3e-3d35a5d67c9e",
   "metadata": {},
   "outputs": [],
   "source": []
  }
 ],
 "metadata": {
  "kernelspec": {
   "display_name": "Python 3 (ipykernel)",
   "language": "python",
   "name": "python3"
  },
  "language_info": {
   "codemirror_mode": {
    "name": "ipython",
    "version": 3
   },
   "file_extension": ".py",
   "mimetype": "text/x-python",
   "name": "python",
   "nbconvert_exporter": "python",
   "pygments_lexer": "ipython3",
   "version": "3.13.5"
  }
 },
 "nbformat": 4,
 "nbformat_minor": 5
}

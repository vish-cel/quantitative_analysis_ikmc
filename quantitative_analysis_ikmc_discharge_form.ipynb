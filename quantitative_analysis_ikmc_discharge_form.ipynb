{
 "cells": [
  {
   "cell_type": "code",
   "execution_count": 1,
   "id": "5fa331f1-663d-4529-82a1-1cda9578e041",
   "metadata": {},
   "outputs": [],
   "source": [
    "import pandas as pd"
   ]
  },
  {
   "cell_type": "code",
   "execution_count": 2,
   "id": "1c4b28a6-677d-4936-9ffa-170c9bf1d652",
   "metadata": {},
   "outputs": [],
   "source": [
    "# Load the Discharge form data, skipping the specified number of rows\n",
    "df_dis = pd.read_csv(r\"C:\\Users\\CEL\\Desktop\\Quantitative Analysis\\iKMC\\Dis_17th Sep '24 - 18th Jun '25.csv\", skiprows=2)"
   ]
  },
  {
   "cell_type": "code",
   "execution_count": 3,
   "id": "7eb6317e-81d8-460d-8c96-8e86e8334ae9",
   "metadata": {},
   "outputs": [
    {
     "name": "stdout",
     "output_type": "stream",
     "text": [
      "First 5 rows of the Discharge Form Data:\n",
      "  dis_baby_scrno dis_babyid     dis_dof   dis_tof  dis_researcher_code  \\\n",
      "0      S12090009  E12090003  2024-09-24  11:42:00                 1209   \n",
      "1      S12090011  E12090004  2024-09-26  11:03:00                 1209   \n",
      "2      S12090017  E12090005  2024-09-30  12:27:00                 1209   \n",
      "3      S12140010  E12140004  2024-09-30  12:18:00                 1214   \n",
      "4      S12090018  E12090006  2024-10-01  14:02:00                 1214   \n",
      "\n",
      "   country_id  site_id  facility_id  dis_resp dis_resp_spy  ...  dis_hc  \\\n",
      "0          11      112           12        11          NaN  ...    22.0   \n",
      "1          11      112           12        11          NaN  ...    21.0   \n",
      "2          11      112           12        11          NaN  ...    34.0   \n",
      "3          11      112           12        11          NaN  ...    33.0   \n",
      "4          11      112           12        13     Taau ji   ...    34.0   \n",
      "\n",
      "   dis_len dis_dir_bf_24hrs dis_exp_bm_24hrs  dis_al_feed_24hrs  dis_ssc  \\\n",
      "0       39               12               12                 12       12   \n",
      "1       48               12               11                 12       12   \n",
      "2       45               11               12                 12       12   \n",
      "3       40               12               11                 12       11   \n",
      "4       45               12               11                 12       12   \n",
      "\n",
      "   dis_ssc_dur  dis_mom_outcome  dis_mom_dt_outcome  dis_mom_tm_outcome  \n",
      "0          NaN               11          2024-09-23            15:00:00  \n",
      "1          NaN               14          2024-09-25            14:00:00  \n",
      "2          NaN               11          2024-09-30            12:20:00  \n",
      "3          4.0               11          2024-09-30            12:20:00  \n",
      "4          NaN               11          2024-09-30            22:00:00  \n",
      "\n",
      "[5 rows x 25 columns]\n"
     ]
    }
   ],
   "source": [
    "# Display the first few rows of the dataframe\n",
    "print(\"First 5 rows of the Discharge Form Data:\")\n",
    "print(df_dis.head())"
   ]
  },
  {
   "cell_type": "code",
   "execution_count": 4,
   "id": "6cdbd3cf-0957-4a16-8bdb-8c2d2f24fe38",
   "metadata": {},
   "outputs": [
    {
     "name": "stdout",
     "output_type": "stream",
     "text": [
      "\n",
      "Information about the Discharge Form Data:\n",
      "<class 'pandas.core.frame.DataFrame'>\n",
      "RangeIndex: 318 entries, 0 to 317\n",
      "Data columns (total 25 columns):\n",
      " #   Column               Non-Null Count  Dtype  \n",
      "---  ------               --------------  -----  \n",
      " 0   dis_baby_scrno       318 non-null    object \n",
      " 1   dis_babyid           318 non-null    object \n",
      " 2   dis_dof              318 non-null    object \n",
      " 3   dis_tof              318 non-null    object \n",
      " 4   dis_researcher_code  318 non-null    int64  \n",
      " 5   country_id           318 non-null    int64  \n",
      " 6   site_id              318 non-null    int64  \n",
      " 7   facility_id          318 non-null    int64  \n",
      " 8   dis_resp             318 non-null    int64  \n",
      " 9   dis_resp_spy         33 non-null     object \n",
      " 10  dis_befdis           318 non-null    int64  \n",
      " 11  dis_inf_outcome      318 non-null    int64  \n",
      " 12  dis_inf_dt_outcome   318 non-null    object \n",
      " 13  dis_inf_tm_outcome   318 non-null    object \n",
      " 14  dis_weight           318 non-null    int64  \n",
      " 15  dis_hc               318 non-null    float64\n",
      " 16  dis_len              318 non-null    int64  \n",
      " 17  dis_dir_bf_24hrs     318 non-null    int64  \n",
      " 18  dis_exp_bm_24hrs     318 non-null    int64  \n",
      " 19  dis_al_feed_24hrs    318 non-null    int64  \n",
      " 20  dis_ssc              318 non-null    int64  \n",
      " 21  dis_ssc_dur          238 non-null    float64\n",
      " 22  dis_mom_outcome      318 non-null    int64  \n",
      " 23  dis_mom_dt_outcome   296 non-null    object \n",
      " 24  dis_mom_tm_outcome   296 non-null    object \n",
      "dtypes: float64(2), int64(14), object(9)\n",
      "memory usage: 62.2+ KB\n",
      "None\n"
     ]
    }
   ],
   "source": [
    "# Display information about the dataframe, including column names and data types\n",
    "print(\"\\nInformation about the Discharge Form Data:\")\n",
    "print(df_dis.info())"
   ]
  },
  {
   "cell_type": "code",
   "execution_count": 5,
   "id": "197af425-9a44-44f6-9c1b-ecd2bc1d87c8",
   "metadata": {},
   "outputs": [
    {
     "name": "stdout",
     "output_type": "stream",
     "text": [
      "\n",
      "Descriptive Statistics for Key Numerical Columns:\n",
      "        dis_weight       dis_hc      dis_len  dis_ssc_dur\n",
      "count   318.000000   318.000000   318.000000   238.000000\n",
      "mean   2052.644654  1756.602201  1767.512579    11.424370\n",
      "std    1171.019547  3775.226343  3770.225029     5.437849\n",
      "min    1009.000000    20.000000    32.000000     1.000000\n",
      "25%    1601.250000    30.000000    42.000000     7.250000\n",
      "50%    1857.500000    31.000000    46.000000    13.000000\n",
      "75%    2200.000000    34.000000    48.750000    16.000000\n",
      "max    9999.000000  9999.000000  9999.000000    22.000000\n"
     ]
    }
   ],
   "source": [
    "# Descriptive statistics for key numerical columns\n",
    "print(\"\\nDescriptive Statistics for Key Numerical Columns:\")\n",
    "print(df_dis[['dis_weight', 'dis_hc', 'dis_len', 'dis_ssc_dur']].describe())"
   ]
  },
  {
   "cell_type": "code",
   "execution_count": 6,
   "id": "0c9b825c-97ac-42e8-bfd8-13bcc29f171c",
   "metadata": {},
   "outputs": [
    {
     "name": "stdout",
     "output_type": "stream",
     "text": [
      "\n",
      "Distribution of Country ID (country_id):\n",
      "country_id\n",
      "11    318\n",
      "Name: count, dtype: int64\n",
      "country_id\n",
      "11    100.0\n",
      "Name: proportion, dtype: float64\n",
      "\n",
      "Distribution of Site ID (site_id):\n",
      "site_id\n",
      "112    318\n",
      "Name: count, dtype: int64\n",
      "site_id\n",
      "112    100.0\n",
      "Name: proportion, dtype: float64\n",
      "\n",
      "Distribution of Facility ID (facility_id):\n",
      "facility_id\n",
      "12    318\n",
      "Name: count, dtype: int64\n",
      "facility_id\n",
      "12    100.0\n",
      "Name: proportion, dtype: float64\n",
      "\n",
      "Distribution of Researcher Code (dis_researcher_code):\n",
      "dis_researcher_code\n",
      "1209    209\n",
      "1214    109\n",
      "Name: count, dtype: int64\n",
      "dis_researcher_code\n",
      "1209    65.72327\n",
      "1214    34.27673\n",
      "Name: proportion, dtype: float64\n"
     ]
    }
   ],
   "source": [
    "# Analyze distribution of country_id, site_id, facility_id, dis_researcher_code\n",
    "print(\"\\nDistribution of Country ID (country_id):\")\n",
    "print(df_dis['country_id'].value_counts(dropna=False))\n",
    "print(df_dis['country_id'].value_counts(normalize=True, dropna=False) * 100)\n",
    "\n",
    "print(\"\\nDistribution of Site ID (site_id):\")\n",
    "print(df_dis['site_id'].value_counts(dropna=False))\n",
    "print(df_dis['site_id'].value_counts(normalize=True, dropna=False) * 100)\n",
    "\n",
    "print(\"\\nDistribution of Facility ID (facility_id):\")\n",
    "print(df_dis['facility_id'].value_counts(dropna=False))\n",
    "print(df_dis['facility_id'].value_counts(normalize=True, dropna=False) * 100)\n",
    "\n",
    "print(\"\\nDistribution of Researcher Code (dis_researcher_code):\")\n",
    "print(df_dis['dis_researcher_code'].value_counts(dropna=False))\n",
    "print(df_dis['dis_researcher_code'].value_counts(normalize=True, dropna=False) * 100)\n"
   ]
  },
  {
   "cell_type": "code",
   "execution_count": 7,
   "id": "1e2b2cb6-86e0-4de1-ae51-de502a22e9f9",
   "metadata": {},
   "outputs": [
    {
     "name": "stdout",
     "output_type": "stream",
     "text": [
      "\n",
      "Number of duplicate 'dis_babyid' entries: 20\n",
      "Number of unique babies in Discharge data (dis_babyid): 298\n",
      "\n",
      "Number of duplicate 'dis_baby_scrno' entries: 20\n",
      "Number of unique babies by 'dis_baby_scrno' in Discharge data: 298\n"
     ]
    }
   ],
   "source": [
    "# Check for duplicate entries in 'dis_babyid' and 'dis_baby_scrno'\n",
    "print(\"\\nNumber of duplicate 'dis_babyid' entries:\", df_dis['dis_babyid'].duplicated().sum())\n",
    "print(\"Number of unique babies in Discharge data (dis_babyid):\", df_dis['dis_babyid'].nunique())\n",
    "print(\"\\nNumber of duplicate 'dis_baby_scrno' entries:\", df_dis['dis_baby_scrno'].duplicated().sum())\n",
    "print(\"Number of unique babies by 'dis_baby_scrno' in Discharge data:\", df_dis['dis_baby_scrno'].nunique())"
   ]
  },
  {
   "cell_type": "code",
   "execution_count": 8,
   "id": "b5a1a56e-7931-47e1-be65-1107c67a606c",
   "metadata": {},
   "outputs": [
    {
     "name": "stdout",
     "output_type": "stream",
     "text": [
      "\n",
      "Date Range of 'dis_dof' (Date of Form): 2024-09-24 00:00:00 to 2025-06-17 00:00:00\n",
      "Date Range of 'dis_inf_dt_outcome' (Infant Outcome Date): 2024-09-20 00:00:00 to 2025-06-17 00:00:00\n",
      "Date Range of 'dis_mom_dt_outcome' (Mother Outcome Date): 2024-09-23 00:00:00 to 2025-06-17 00:00:00\n"
     ]
    }
   ],
   "source": [
    "# Convert date columns to datetime objects and examine range\n",
    "df_dis['dis_dof'] = pd.to_datetime(df_dis['dis_dof'], errors='coerce')\n",
    "df_dis['dis_inf_dt_outcome'] = pd.to_datetime(df_dis['dis_inf_dt_outcome'], errors='coerce')\n",
    "df_dis['dis_mom_dt_outcome'] = pd.to_datetime(df_dis['dis_mom_dt_outcome'], errors='coerce')\n",
    "\n",
    "print(\"\\nDate Range of 'dis_dof' (Date of Form):\", df_dis['dis_dof'].min(), \"to\", df_dis['dis_dof'].max())\n",
    "print(\"Date Range of 'dis_inf_dt_outcome' (Infant Outcome Date):\", df_dis['dis_inf_dt_outcome'].min(), \"to\", df_dis['dis_inf_dt_outcome'].max())\n",
    "print(\"Date Range of 'dis_mom_dt_outcome' (Mother Outcome Date):\", df_dis['dis_mom_dt_outcome'].min(), \"to\", df_dis['dis_mom_dt_outcome'].max())"
   ]
  },
  {
   "cell_type": "code",
   "execution_count": 9,
   "id": "6ab1e6d5-6d65-4631-9ce9-0022b7493c3a",
   "metadata": {},
   "outputs": [
    {
     "name": "stdout",
     "output_type": "stream",
     "text": [
      "\n",
      "Distribution of 'dis_inf_outcome' (Infant Outcome):\n",
      "dis_inf_outcome\n",
      "11    259\n",
      "14     36\n",
      "12     19\n",
      "13      4\n",
      "Name: count, dtype: int64\n",
      "dis_inf_outcome\n",
      "11    81.446541\n",
      "14    11.320755\n",
      "12     5.974843\n",
      "13     1.257862\n",
      "Name: proportion, dtype: float64\n",
      "\n",
      "Distribution of 'dis_befdis' (Baby's well being at discharge):\n",
      "dis_befdis\n",
      "11    278\n",
      "13     26\n",
      "12     14\n",
      "Name: count, dtype: int64\n",
      "dis_befdis\n",
      "11    87.421384\n",
      "13     8.176101\n",
      "12     4.402516\n",
      "Name: proportion, dtype: float64\n",
      "\n",
      "Distribution of 'dis_dir_bf_24hrs' (Direct Breastfeeding in last 24 hrs):\n",
      "dis_dir_bf_24hrs\n",
      "11    176\n",
      "12    142\n",
      "Name: count, dtype: int64\n",
      "dis_dir_bf_24hrs\n",
      "11    55.345912\n",
      "12    44.654088\n",
      "Name: proportion, dtype: float64\n",
      "\n",
      "Distribution of 'dis_exp_bm_24hrs' (Expressed Breast Milk in last 24 hrs):\n",
      "dis_exp_bm_24hrs\n",
      "11    243\n",
      "12     75\n",
      "Name: count, dtype: int64\n",
      "dis_exp_bm_24hrs\n",
      "11    76.415094\n",
      "12    23.584906\n",
      "Name: proportion, dtype: float64\n",
      "\n",
      "Distribution of 'dis_al_feed_24hrs' (Alternate Feeding in last 24 hrs):\n",
      "dis_al_feed_24hrs\n",
      "12    298\n",
      "11     20\n",
      "Name: count, dtype: int64\n",
      "dis_al_feed_24hrs\n",
      "12    93.710692\n",
      "11     6.289308\n",
      "Name: proportion, dtype: float64\n",
      "\n",
      "Distribution of 'dis_ssc' (Skin-to-Skin Contact done):\n",
      "dis_ssc\n",
      "11    238\n",
      "12     80\n",
      "Name: count, dtype: int64\n",
      "dis_ssc\n",
      "11    74.842767\n",
      "12    25.157233\n",
      "Name: proportion, dtype: float64\n",
      "\n",
      "Distribution of 'dis_mom_outcome' (Mother Outcome):\n",
      "dis_mom_outcome\n",
      "11    268\n",
      "15     15\n",
      "12     15\n",
      "14     11\n",
      "16      7\n",
      "13      2\n",
      "Name: count, dtype: int64\n",
      "dis_mom_outcome\n",
      "11    84.276730\n",
      "15     4.716981\n",
      "12     4.716981\n",
      "14     3.459119\n",
      "16     2.201258\n",
      "13     0.628931\n",
      "Name: proportion, dtype: float64\n"
     ]
    }
   ],
   "source": [
    "# Analyze distributions of key categorical/binary variables\n",
    "print(\"\\nDistribution of 'dis_inf_outcome' (Infant Outcome):\")\n",
    "print(df_dis['dis_inf_outcome'].value_counts(dropna=False))\n",
    "print(df_dis['dis_inf_outcome'].value_counts(normalize=True, dropna=False) * 100)\n",
    "\n",
    "print(\"\\nDistribution of 'dis_befdis' (Baby's well being at discharge):\")\n",
    "print(df_dis['dis_befdis'].value_counts(dropna=False))\n",
    "print(df_dis['dis_befdis'].value_counts(normalize=True, dropna=False) * 100)\n",
    "\n",
    "print(\"\\nDistribution of 'dis_dir_bf_24hrs' (Direct Breastfeeding in last 24 hrs):\")\n",
    "print(df_dis['dis_dir_bf_24hrs'].value_counts(dropna=False))\n",
    "print(df_dis['dis_dir_bf_24hrs'].value_counts(normalize=True, dropna=False) * 100)\n",
    "\n",
    "print(\"\\nDistribution of 'dis_exp_bm_24hrs' (Expressed Breast Milk in last 24 hrs):\")\n",
    "print(df_dis['dis_exp_bm_24hrs'].value_counts(dropna=False))\n",
    "print(df_dis['dis_exp_bm_24hrs'].value_counts(normalize=True, dropna=False) * 100)\n",
    "\n",
    "print(\"\\nDistribution of 'dis_al_feed_24hrs' (Alternate Feeding in last 24 hrs):\")\n",
    "print(df_dis['dis_al_feed_24hrs'].value_counts(dropna=False))\n",
    "print(df_dis['dis_al_feed_24hrs'].value_counts(normalize=True, dropna=False) * 100)\n",
    "\n",
    "print(\"\\nDistribution of 'dis_ssc' (Skin-to-Skin Contact done):\")\n",
    "print(df_dis['dis_ssc'].value_counts(dropna=False))\n",
    "print(df_dis['dis_ssc'].value_counts(normalize=True, dropna=False) * 100)\n",
    "\n",
    "print(\"\\nDistribution of 'dis_mom_outcome' (Mother Outcome):\")\n",
    "print(df_dis['dis_mom_outcome'].value_counts(dropna=False))\n",
    "print(df_dis['dis_mom_outcome'].value_counts(normalize=True, dropna=False) * 100)"
   ]
  },
  {
   "cell_type": "code",
   "execution_count": null,
   "id": "790894be-7a6e-4f98-a04e-5c1c006d5621",
   "metadata": {},
   "outputs": [],
   "source": []
  }
 ],
 "metadata": {
  "kernelspec": {
   "display_name": "Python 3 (ipykernel)",
   "language": "python",
   "name": "python3"
  },
  "language_info": {
   "codemirror_mode": {
    "name": "ipython",
    "version": 3
   },
   "file_extension": ".py",
   "mimetype": "text/x-python",
   "name": "python",
   "nbconvert_exporter": "python",
   "pygments_lexer": "ipython3",
   "version": "3.13.5"
  }
 },
 "nbformat": 4,
 "nbformat_minor": 5
}
